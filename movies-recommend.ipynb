{
 "cells": [
  {
   "cell_type": "code",
   "execution_count": 1,
   "id": "eb7059c2",
   "metadata": {},
   "outputs": [],
   "source": [
    "import numpy as np\n",
    "import pandas as pd"
   ]
  },
  {
   "cell_type": "code",
   "execution_count": 2,
   "id": "2233fa22",
   "metadata": {},
   "outputs": [
    {
     "ename": "FileNotFoundError",
     "evalue": "[Errno 2] No such file or directory: '25k IMDb movie Dataset.csv'",
     "output_type": "error",
     "traceback": [
      "\u001b[1;31m---------------------------------------------------------------------------\u001b[0m",
      "\u001b[1;31mFileNotFoundError\u001b[0m                         Traceback (most recent call last)",
      "Cell \u001b[1;32mIn[2], line 1\u001b[0m\n\u001b[1;32m----> 1\u001b[0m movies \u001b[38;5;241m=\u001b[39m pd\u001b[38;5;241m.\u001b[39mread_csv(\u001b[38;5;124m\"\u001b[39m\u001b[38;5;124m25k IMDb movie Dataset.csv\u001b[39m\u001b[38;5;124m\"\u001b[39m)\n",
      "File \u001b[1;32m~\\anaconda3\\Lib\\site-packages\\pandas\\util\\_decorators.py:211\u001b[0m, in \u001b[0;36mdeprecate_kwarg.<locals>._deprecate_kwarg.<locals>.wrapper\u001b[1;34m(*args, **kwargs)\u001b[0m\n\u001b[0;32m    209\u001b[0m     \u001b[38;5;28;01melse\u001b[39;00m:\n\u001b[0;32m    210\u001b[0m         kwargs[new_arg_name] \u001b[38;5;241m=\u001b[39m new_arg_value\n\u001b[1;32m--> 211\u001b[0m \u001b[38;5;28;01mreturn\u001b[39;00m func(\u001b[38;5;241m*\u001b[39margs, \u001b[38;5;241m*\u001b[39m\u001b[38;5;241m*\u001b[39mkwargs)\n",
      "File \u001b[1;32m~\\anaconda3\\Lib\\site-packages\\pandas\\util\\_decorators.py:331\u001b[0m, in \u001b[0;36mdeprecate_nonkeyword_arguments.<locals>.decorate.<locals>.wrapper\u001b[1;34m(*args, **kwargs)\u001b[0m\n\u001b[0;32m    325\u001b[0m \u001b[38;5;28;01mif\u001b[39;00m \u001b[38;5;28mlen\u001b[39m(args) \u001b[38;5;241m>\u001b[39m num_allow_args:\n\u001b[0;32m    326\u001b[0m     warnings\u001b[38;5;241m.\u001b[39mwarn(\n\u001b[0;32m    327\u001b[0m         msg\u001b[38;5;241m.\u001b[39mformat(arguments\u001b[38;5;241m=\u001b[39m_format_argument_list(allow_args)),\n\u001b[0;32m    328\u001b[0m         \u001b[38;5;167;01mFutureWarning\u001b[39;00m,\n\u001b[0;32m    329\u001b[0m         stacklevel\u001b[38;5;241m=\u001b[39mfind_stack_level(),\n\u001b[0;32m    330\u001b[0m     )\n\u001b[1;32m--> 331\u001b[0m \u001b[38;5;28;01mreturn\u001b[39;00m func(\u001b[38;5;241m*\u001b[39margs, \u001b[38;5;241m*\u001b[39m\u001b[38;5;241m*\u001b[39mkwargs)\n",
      "File \u001b[1;32m~\\anaconda3\\Lib\\site-packages\\pandas\\io\\parsers\\readers.py:950\u001b[0m, in \u001b[0;36mread_csv\u001b[1;34m(filepath_or_buffer, sep, delimiter, header, names, index_col, usecols, squeeze, prefix, mangle_dupe_cols, dtype, engine, converters, true_values, false_values, skipinitialspace, skiprows, skipfooter, nrows, na_values, keep_default_na, na_filter, verbose, skip_blank_lines, parse_dates, infer_datetime_format, keep_date_col, date_parser, dayfirst, cache_dates, iterator, chunksize, compression, thousands, decimal, lineterminator, quotechar, quoting, doublequote, escapechar, comment, encoding, encoding_errors, dialect, error_bad_lines, warn_bad_lines, on_bad_lines, delim_whitespace, low_memory, memory_map, float_precision, storage_options)\u001b[0m\n\u001b[0;32m    935\u001b[0m kwds_defaults \u001b[38;5;241m=\u001b[39m _refine_defaults_read(\n\u001b[0;32m    936\u001b[0m     dialect,\n\u001b[0;32m    937\u001b[0m     delimiter,\n\u001b[1;32m   (...)\u001b[0m\n\u001b[0;32m    946\u001b[0m     defaults\u001b[38;5;241m=\u001b[39m{\u001b[38;5;124m\"\u001b[39m\u001b[38;5;124mdelimiter\u001b[39m\u001b[38;5;124m\"\u001b[39m: \u001b[38;5;124m\"\u001b[39m\u001b[38;5;124m,\u001b[39m\u001b[38;5;124m\"\u001b[39m},\n\u001b[0;32m    947\u001b[0m )\n\u001b[0;32m    948\u001b[0m kwds\u001b[38;5;241m.\u001b[39mupdate(kwds_defaults)\n\u001b[1;32m--> 950\u001b[0m \u001b[38;5;28;01mreturn\u001b[39;00m _read(filepath_or_buffer, kwds)\n",
      "File \u001b[1;32m~\\anaconda3\\Lib\\site-packages\\pandas\\io\\parsers\\readers.py:605\u001b[0m, in \u001b[0;36m_read\u001b[1;34m(filepath_or_buffer, kwds)\u001b[0m\n\u001b[0;32m    602\u001b[0m _validate_names(kwds\u001b[38;5;241m.\u001b[39mget(\u001b[38;5;124m\"\u001b[39m\u001b[38;5;124mnames\u001b[39m\u001b[38;5;124m\"\u001b[39m, \u001b[38;5;28;01mNone\u001b[39;00m))\n\u001b[0;32m    604\u001b[0m \u001b[38;5;66;03m# Create the parser.\u001b[39;00m\n\u001b[1;32m--> 605\u001b[0m parser \u001b[38;5;241m=\u001b[39m TextFileReader(filepath_or_buffer, \u001b[38;5;241m*\u001b[39m\u001b[38;5;241m*\u001b[39mkwds)\n\u001b[0;32m    607\u001b[0m \u001b[38;5;28;01mif\u001b[39;00m chunksize \u001b[38;5;129;01mor\u001b[39;00m iterator:\n\u001b[0;32m    608\u001b[0m     \u001b[38;5;28;01mreturn\u001b[39;00m parser\n",
      "File \u001b[1;32m~\\anaconda3\\Lib\\site-packages\\pandas\\io\\parsers\\readers.py:1442\u001b[0m, in \u001b[0;36mTextFileReader.__init__\u001b[1;34m(self, f, engine, **kwds)\u001b[0m\n\u001b[0;32m   1439\u001b[0m     \u001b[38;5;28mself\u001b[39m\u001b[38;5;241m.\u001b[39moptions[\u001b[38;5;124m\"\u001b[39m\u001b[38;5;124mhas_index_names\u001b[39m\u001b[38;5;124m\"\u001b[39m] \u001b[38;5;241m=\u001b[39m kwds[\u001b[38;5;124m\"\u001b[39m\u001b[38;5;124mhas_index_names\u001b[39m\u001b[38;5;124m\"\u001b[39m]\n\u001b[0;32m   1441\u001b[0m \u001b[38;5;28mself\u001b[39m\u001b[38;5;241m.\u001b[39mhandles: IOHandles \u001b[38;5;241m|\u001b[39m \u001b[38;5;28;01mNone\u001b[39;00m \u001b[38;5;241m=\u001b[39m \u001b[38;5;28;01mNone\u001b[39;00m\n\u001b[1;32m-> 1442\u001b[0m \u001b[38;5;28mself\u001b[39m\u001b[38;5;241m.\u001b[39m_engine \u001b[38;5;241m=\u001b[39m \u001b[38;5;28mself\u001b[39m\u001b[38;5;241m.\u001b[39m_make_engine(f, \u001b[38;5;28mself\u001b[39m\u001b[38;5;241m.\u001b[39mengine)\n",
      "File \u001b[1;32m~\\anaconda3\\Lib\\site-packages\\pandas\\io\\parsers\\readers.py:1735\u001b[0m, in \u001b[0;36mTextFileReader._make_engine\u001b[1;34m(self, f, engine)\u001b[0m\n\u001b[0;32m   1733\u001b[0m     \u001b[38;5;28;01mif\u001b[39;00m \u001b[38;5;124m\"\u001b[39m\u001b[38;5;124mb\u001b[39m\u001b[38;5;124m\"\u001b[39m \u001b[38;5;129;01mnot\u001b[39;00m \u001b[38;5;129;01min\u001b[39;00m mode:\n\u001b[0;32m   1734\u001b[0m         mode \u001b[38;5;241m+\u001b[39m\u001b[38;5;241m=\u001b[39m \u001b[38;5;124m\"\u001b[39m\u001b[38;5;124mb\u001b[39m\u001b[38;5;124m\"\u001b[39m\n\u001b[1;32m-> 1735\u001b[0m \u001b[38;5;28mself\u001b[39m\u001b[38;5;241m.\u001b[39mhandles \u001b[38;5;241m=\u001b[39m get_handle(\n\u001b[0;32m   1736\u001b[0m     f,\n\u001b[0;32m   1737\u001b[0m     mode,\n\u001b[0;32m   1738\u001b[0m     encoding\u001b[38;5;241m=\u001b[39m\u001b[38;5;28mself\u001b[39m\u001b[38;5;241m.\u001b[39moptions\u001b[38;5;241m.\u001b[39mget(\u001b[38;5;124m\"\u001b[39m\u001b[38;5;124mencoding\u001b[39m\u001b[38;5;124m\"\u001b[39m, \u001b[38;5;28;01mNone\u001b[39;00m),\n\u001b[0;32m   1739\u001b[0m     compression\u001b[38;5;241m=\u001b[39m\u001b[38;5;28mself\u001b[39m\u001b[38;5;241m.\u001b[39moptions\u001b[38;5;241m.\u001b[39mget(\u001b[38;5;124m\"\u001b[39m\u001b[38;5;124mcompression\u001b[39m\u001b[38;5;124m\"\u001b[39m, \u001b[38;5;28;01mNone\u001b[39;00m),\n\u001b[0;32m   1740\u001b[0m     memory_map\u001b[38;5;241m=\u001b[39m\u001b[38;5;28mself\u001b[39m\u001b[38;5;241m.\u001b[39moptions\u001b[38;5;241m.\u001b[39mget(\u001b[38;5;124m\"\u001b[39m\u001b[38;5;124mmemory_map\u001b[39m\u001b[38;5;124m\"\u001b[39m, \u001b[38;5;28;01mFalse\u001b[39;00m),\n\u001b[0;32m   1741\u001b[0m     is_text\u001b[38;5;241m=\u001b[39mis_text,\n\u001b[0;32m   1742\u001b[0m     errors\u001b[38;5;241m=\u001b[39m\u001b[38;5;28mself\u001b[39m\u001b[38;5;241m.\u001b[39moptions\u001b[38;5;241m.\u001b[39mget(\u001b[38;5;124m\"\u001b[39m\u001b[38;5;124mencoding_errors\u001b[39m\u001b[38;5;124m\"\u001b[39m, \u001b[38;5;124m\"\u001b[39m\u001b[38;5;124mstrict\u001b[39m\u001b[38;5;124m\"\u001b[39m),\n\u001b[0;32m   1743\u001b[0m     storage_options\u001b[38;5;241m=\u001b[39m\u001b[38;5;28mself\u001b[39m\u001b[38;5;241m.\u001b[39moptions\u001b[38;5;241m.\u001b[39mget(\u001b[38;5;124m\"\u001b[39m\u001b[38;5;124mstorage_options\u001b[39m\u001b[38;5;124m\"\u001b[39m, \u001b[38;5;28;01mNone\u001b[39;00m),\n\u001b[0;32m   1744\u001b[0m )\n\u001b[0;32m   1745\u001b[0m \u001b[38;5;28;01massert\u001b[39;00m \u001b[38;5;28mself\u001b[39m\u001b[38;5;241m.\u001b[39mhandles \u001b[38;5;129;01mis\u001b[39;00m \u001b[38;5;129;01mnot\u001b[39;00m \u001b[38;5;28;01mNone\u001b[39;00m\n\u001b[0;32m   1746\u001b[0m f \u001b[38;5;241m=\u001b[39m \u001b[38;5;28mself\u001b[39m\u001b[38;5;241m.\u001b[39mhandles\u001b[38;5;241m.\u001b[39mhandle\n",
      "File \u001b[1;32m~\\anaconda3\\Lib\\site-packages\\pandas\\io\\common.py:856\u001b[0m, in \u001b[0;36mget_handle\u001b[1;34m(path_or_buf, mode, encoding, compression, memory_map, is_text, errors, storage_options)\u001b[0m\n\u001b[0;32m    851\u001b[0m \u001b[38;5;28;01melif\u001b[39;00m \u001b[38;5;28misinstance\u001b[39m(handle, \u001b[38;5;28mstr\u001b[39m):\n\u001b[0;32m    852\u001b[0m     \u001b[38;5;66;03m# Check whether the filename is to be opened in binary mode.\u001b[39;00m\n\u001b[0;32m    853\u001b[0m     \u001b[38;5;66;03m# Binary mode does not support 'encoding' and 'newline'.\u001b[39;00m\n\u001b[0;32m    854\u001b[0m     \u001b[38;5;28;01mif\u001b[39;00m ioargs\u001b[38;5;241m.\u001b[39mencoding \u001b[38;5;129;01mand\u001b[39;00m \u001b[38;5;124m\"\u001b[39m\u001b[38;5;124mb\u001b[39m\u001b[38;5;124m\"\u001b[39m \u001b[38;5;129;01mnot\u001b[39;00m \u001b[38;5;129;01min\u001b[39;00m ioargs\u001b[38;5;241m.\u001b[39mmode:\n\u001b[0;32m    855\u001b[0m         \u001b[38;5;66;03m# Encoding\u001b[39;00m\n\u001b[1;32m--> 856\u001b[0m         handle \u001b[38;5;241m=\u001b[39m \u001b[38;5;28mopen\u001b[39m(\n\u001b[0;32m    857\u001b[0m             handle,\n\u001b[0;32m    858\u001b[0m             ioargs\u001b[38;5;241m.\u001b[39mmode,\n\u001b[0;32m    859\u001b[0m             encoding\u001b[38;5;241m=\u001b[39mioargs\u001b[38;5;241m.\u001b[39mencoding,\n\u001b[0;32m    860\u001b[0m             errors\u001b[38;5;241m=\u001b[39merrors,\n\u001b[0;32m    861\u001b[0m             newline\u001b[38;5;241m=\u001b[39m\u001b[38;5;124m\"\u001b[39m\u001b[38;5;124m\"\u001b[39m,\n\u001b[0;32m    862\u001b[0m         )\n\u001b[0;32m    863\u001b[0m     \u001b[38;5;28;01melse\u001b[39;00m:\n\u001b[0;32m    864\u001b[0m         \u001b[38;5;66;03m# Binary mode\u001b[39;00m\n\u001b[0;32m    865\u001b[0m         handle \u001b[38;5;241m=\u001b[39m \u001b[38;5;28mopen\u001b[39m(handle, ioargs\u001b[38;5;241m.\u001b[39mmode)\n",
      "\u001b[1;31mFileNotFoundError\u001b[0m: [Errno 2] No such file or directory: '25k IMDb movie Dataset.csv'"
     ]
    }
   ],
   "source": [
    "movies = pd.read_csv(\"25k IMDb movie Dataset.csv\")"
   ]
  },
  {
   "cell_type": "code",
   "execution_count": 3,
   "id": "e021c528",
   "metadata": {},
   "outputs": [
    {
     "data": {
      "text/html": [
       "<div>\n",
       "<style scoped>\n",
       "    .dataframe tbody tr th:only-of-type {\n",
       "        vertical-align: middle;\n",
       "    }\n",
       "\n",
       "    .dataframe tbody tr th {\n",
       "        vertical-align: top;\n",
       "    }\n",
       "\n",
       "    .dataframe thead th {\n",
       "        text-align: right;\n",
       "    }\n",
       "</style>\n",
       "<table border=\"1\" class=\"dataframe\">\n",
       "  <thead>\n",
       "    <tr style=\"text-align: right;\">\n",
       "      <th></th>\n",
       "      <th>movie title</th>\n",
       "      <th>Run Time</th>\n",
       "      <th>Rating</th>\n",
       "      <th>User Rating</th>\n",
       "      <th>Generes</th>\n",
       "      <th>Overview</th>\n",
       "      <th>Plot Kyeword</th>\n",
       "      <th>Director</th>\n",
       "      <th>Top 5 Casts</th>\n",
       "      <th>Writer</th>\n",
       "      <th>year</th>\n",
       "      <th>path</th>\n",
       "    </tr>\n",
       "  </thead>\n",
       "  <tbody>\n",
       "    <tr>\n",
       "      <th>0</th>\n",
       "      <td>Top Gun: Maverick</td>\n",
       "      <td>$170,000,000 (estimated)</td>\n",
       "      <td>8.6</td>\n",
       "      <td>187K</td>\n",
       "      <td>['Action', 'Drama']</td>\n",
       "      <td>After more than thirty years of service as one...</td>\n",
       "      <td>['fighter jet', 'sequel', 'u.s. navy', 'fighte...</td>\n",
       "      <td>Joseph Kosinski</td>\n",
       "      <td>['Jack Epps Jr.', 'Peter Craig', 'Tom Cruise',...</td>\n",
       "      <td>Jim Cash</td>\n",
       "      <td>-2022</td>\n",
       "      <td>/title/tt1745960/</td>\n",
       "    </tr>\n",
       "    <tr>\n",
       "      <th>1</th>\n",
       "      <td>Jurassic World Dominion</td>\n",
       "      <td>2 hours 27 minutes</td>\n",
       "      <td>6</td>\n",
       "      <td>56K</td>\n",
       "      <td>['Action', 'Adventure', 'Sci-Fi']</td>\n",
       "      <td>Four years after the destruction of Isla Nubla...</td>\n",
       "      <td>['dinosaur', 'jurassic park', 'tyrannosaurus r...</td>\n",
       "      <td>Colin Trevorrow</td>\n",
       "      <td>['Colin Trevorrow', 'Derek Connolly', 'Chris P...</td>\n",
       "      <td>Emily Carmichael</td>\n",
       "      <td>-2022</td>\n",
       "      <td>/title/tt8041270/</td>\n",
       "    </tr>\n",
       "    <tr>\n",
       "      <th>2</th>\n",
       "      <td>Top Gun</td>\n",
       "      <td>$15,000,000 (estimated)</td>\n",
       "      <td>6.9</td>\n",
       "      <td>380K</td>\n",
       "      <td>['Action', 'Drama']</td>\n",
       "      <td>As students at the United States Navy's elite ...</td>\n",
       "      <td>['pilot', 'male camaraderie', 'u.s. navy', 'gr...</td>\n",
       "      <td>Tony Scott</td>\n",
       "      <td>['Jack Epps Jr.', 'Ehud Yonay', 'Tom Cruise', ...</td>\n",
       "      <td>Jim Cash</td>\n",
       "      <td>-1986</td>\n",
       "      <td>/title/tt0092099/</td>\n",
       "    </tr>\n",
       "  </tbody>\n",
       "</table>\n",
       "</div>"
      ],
      "text/plain": [
       "               movie title                  Run Time Rating User Rating  \\\n",
       "0        Top Gun: Maverick  $170,000,000 (estimated)    8.6        187K   \n",
       "1  Jurassic World Dominion        2 hours 27 minutes      6         56K   \n",
       "2                  Top Gun   $15,000,000 (estimated)    6.9        380K   \n",
       "\n",
       "                             Generes  \\\n",
       "0                ['Action', 'Drama']   \n",
       "1  ['Action', 'Adventure', 'Sci-Fi']   \n",
       "2                ['Action', 'Drama']   \n",
       "\n",
       "                                            Overview  \\\n",
       "0  After more than thirty years of service as one...   \n",
       "1  Four years after the destruction of Isla Nubla...   \n",
       "2  As students at the United States Navy's elite ...   \n",
       "\n",
       "                                        Plot Kyeword         Director  \\\n",
       "0  ['fighter jet', 'sequel', 'u.s. navy', 'fighte...  Joseph Kosinski   \n",
       "1  ['dinosaur', 'jurassic park', 'tyrannosaurus r...  Colin Trevorrow   \n",
       "2  ['pilot', 'male camaraderie', 'u.s. navy', 'gr...       Tony Scott   \n",
       "\n",
       "                                         Top 5 Casts            Writer   year  \\\n",
       "0  ['Jack Epps Jr.', 'Peter Craig', 'Tom Cruise',...          Jim Cash  -2022   \n",
       "1  ['Colin Trevorrow', 'Derek Connolly', 'Chris P...  Emily Carmichael  -2022   \n",
       "2  ['Jack Epps Jr.', 'Ehud Yonay', 'Tom Cruise', ...          Jim Cash  -1986   \n",
       "\n",
       "                path  \n",
       "0  /title/tt1745960/  \n",
       "1  /title/tt8041270/  \n",
       "2  /title/tt0092099/  "
      ]
     },
     "execution_count": 3,
     "metadata": {},
     "output_type": "execute_result"
    }
   ],
   "source": [
    "movies.head(3)"
   ]
  },
  {
   "cell_type": "code",
   "execution_count": 4,
   "id": "b0eb640e",
   "metadata": {},
   "outputs": [],
   "source": [
    "movies.rename(columns = {'Plot Kyeword':'Keywords'}, inplace = True)"
   ]
  },
  {
   "cell_type": "code",
   "execution_count": 5,
   "id": "e7bd4b89",
   "metadata": {},
   "outputs": [],
   "source": [
    "movies.rename(columns = {'movie title':'movie_title'}, inplace = True)"
   ]
  },
  {
   "cell_type": "code",
   "execution_count": 6,
   "id": "b3fb1b64",
   "metadata": {},
   "outputs": [
    {
     "data": {
      "text/plain": [
       "(24402, 12)"
      ]
     },
     "execution_count": 6,
     "metadata": {},
     "output_type": "execute_result"
    }
   ],
   "source": [
    "movies.shape"
   ]
  },
  {
   "cell_type": "code",
   "execution_count": 7,
   "id": "d7a38911",
   "metadata": {},
   "outputs": [],
   "source": [
    "#movie title\n",
    "#Generes\n",
    "#Overview\n",
    "#Plot Keyword\n",
    "#Director\n",
    "#Top 5 casts\n",
    "#Writer\n",
    "\n",
    "movies = movies[['movie_title','Generes','Overview','Keywords','Director','Top 5 Casts','Writer']]"
   ]
  },
  {
   "cell_type": "code",
   "execution_count": 8,
   "id": "be01fae0",
   "metadata": {
    "scrolled": true
   },
   "outputs": [
    {
     "data": {
      "text/html": [
       "<div>\n",
       "<style scoped>\n",
       "    .dataframe tbody tr th:only-of-type {\n",
       "        vertical-align: middle;\n",
       "    }\n",
       "\n",
       "    .dataframe tbody tr th {\n",
       "        vertical-align: top;\n",
       "    }\n",
       "\n",
       "    .dataframe thead th {\n",
       "        text-align: right;\n",
       "    }\n",
       "</style>\n",
       "<table border=\"1\" class=\"dataframe\">\n",
       "  <thead>\n",
       "    <tr style=\"text-align: right;\">\n",
       "      <th></th>\n",
       "      <th>movie_title</th>\n",
       "      <th>Generes</th>\n",
       "      <th>Overview</th>\n",
       "      <th>Keywords</th>\n",
       "      <th>Director</th>\n",
       "      <th>Top 5 Casts</th>\n",
       "      <th>Writer</th>\n",
       "    </tr>\n",
       "  </thead>\n",
       "  <tbody>\n",
       "    <tr>\n",
       "      <th>0</th>\n",
       "      <td>Top Gun: Maverick</td>\n",
       "      <td>['Action', 'Drama']</td>\n",
       "      <td>After more than thirty years of service as one...</td>\n",
       "      <td>['fighter jet', 'sequel', 'u.s. navy', 'fighte...</td>\n",
       "      <td>Joseph Kosinski</td>\n",
       "      <td>['Jack Epps Jr.', 'Peter Craig', 'Tom Cruise',...</td>\n",
       "      <td>Jim Cash</td>\n",
       "    </tr>\n",
       "  </tbody>\n",
       "</table>\n",
       "</div>"
      ],
      "text/plain": [
       "         movie_title              Generes  \\\n",
       "0  Top Gun: Maverick  ['Action', 'Drama']   \n",
       "\n",
       "                                            Overview  \\\n",
       "0  After more than thirty years of service as one...   \n",
       "\n",
       "                                            Keywords         Director  \\\n",
       "0  ['fighter jet', 'sequel', 'u.s. navy', 'fighte...  Joseph Kosinski   \n",
       "\n",
       "                                         Top 5 Casts    Writer  \n",
       "0  ['Jack Epps Jr.', 'Peter Craig', 'Tom Cruise',...  Jim Cash  "
      ]
     },
     "execution_count": 8,
     "metadata": {},
     "output_type": "execute_result"
    }
   ],
   "source": [
    "movies.head(1)"
   ]
  },
  {
   "cell_type": "code",
   "execution_count": 9,
   "id": "ec7045a3",
   "metadata": {},
   "outputs": [
    {
     "data": {
      "text/plain": [
       "movie_title      0\n",
       "Generes          0\n",
       "Overview       244\n",
       "Keywords         0\n",
       "Director         0\n",
       "Top 5 Casts      0\n",
       "Writer           0\n",
       "dtype: int64"
      ]
     },
     "execution_count": 9,
     "metadata": {},
     "output_type": "execute_result"
    }
   ],
   "source": [
    "movies.isnull().sum()"
   ]
  },
  {
   "cell_type": "code",
   "execution_count": 10,
   "id": "c3cd88d1",
   "metadata": {},
   "outputs": [],
   "source": [
    "movies.dropna(inplace=True)"
   ]
  },
  {
   "cell_type": "code",
   "execution_count": 11,
   "id": "37585791",
   "metadata": {},
   "outputs": [
    {
     "data": {
      "text/plain": [
       "movie_title    0\n",
       "Generes        0\n",
       "Overview       0\n",
       "Keywords       0\n",
       "Director       0\n",
       "Top 5 Casts    0\n",
       "Writer         0\n",
       "dtype: int64"
      ]
     },
     "execution_count": 11,
     "metadata": {},
     "output_type": "execute_result"
    }
   ],
   "source": [
    "movies.isnull().sum()"
   ]
  },
  {
   "cell_type": "code",
   "execution_count": 12,
   "id": "1ccbac3c",
   "metadata": {},
   "outputs": [
    {
     "data": {
      "text/plain": [
       "1"
      ]
     },
     "execution_count": 12,
     "metadata": {},
     "output_type": "execute_result"
    }
   ],
   "source": [
    "movies.duplicated().sum()"
   ]
  },
  {
   "cell_type": "code",
   "execution_count": 13,
   "id": "9b40a042",
   "metadata": {},
   "outputs": [],
   "source": [
    "movies = movies.drop_duplicates()"
   ]
  },
  {
   "cell_type": "code",
   "execution_count": 14,
   "id": "87727154",
   "metadata": {},
   "outputs": [
    {
     "data": {
      "text/plain": [
       "0"
      ]
     },
     "execution_count": 14,
     "metadata": {},
     "output_type": "execute_result"
    }
   ],
   "source": [
    "movies.duplicated().sum()"
   ]
  },
  {
   "cell_type": "code",
   "execution_count": 15,
   "id": "c848cc7e",
   "metadata": {
    "scrolled": true
   },
   "outputs": [],
   "source": [
    "# movies.iloc[0].Generes"
   ]
  },
  {
   "cell_type": "code",
   "execution_count": 16,
   "id": "97d0e01c",
   "metadata": {},
   "outputs": [],
   "source": [
    "# movies['Overview'] = movies['Overview'].apply(lambda x:x.split())"
   ]
  },
  {
   "cell_type": "code",
   "execution_count": 17,
   "id": "d3fc2ff8",
   "metadata": {
    "scrolled": true
   },
   "outputs": [
    {
     "data": {
      "text/html": [
       "<div>\n",
       "<style scoped>\n",
       "    .dataframe tbody tr th:only-of-type {\n",
       "        vertical-align: middle;\n",
       "    }\n",
       "\n",
       "    .dataframe tbody tr th {\n",
       "        vertical-align: top;\n",
       "    }\n",
       "\n",
       "    .dataframe thead th {\n",
       "        text-align: right;\n",
       "    }\n",
       "</style>\n",
       "<table border=\"1\" class=\"dataframe\">\n",
       "  <thead>\n",
       "    <tr style=\"text-align: right;\">\n",
       "      <th></th>\n",
       "      <th>movie_title</th>\n",
       "      <th>Generes</th>\n",
       "      <th>Overview</th>\n",
       "      <th>Keywords</th>\n",
       "      <th>Director</th>\n",
       "      <th>Top 5 Casts</th>\n",
       "      <th>Writer</th>\n",
       "    </tr>\n",
       "  </thead>\n",
       "  <tbody>\n",
       "    <tr>\n",
       "      <th>0</th>\n",
       "      <td>Top Gun: Maverick</td>\n",
       "      <td>['Action', 'Drama']</td>\n",
       "      <td>After more than thirty years of service as one...</td>\n",
       "      <td>['fighter jet', 'sequel', 'u.s. navy', 'fighte...</td>\n",
       "      <td>Joseph Kosinski</td>\n",
       "      <td>['Jack Epps Jr.', 'Peter Craig', 'Tom Cruise',...</td>\n",
       "      <td>Jim Cash</td>\n",
       "    </tr>\n",
       "  </tbody>\n",
       "</table>\n",
       "</div>"
      ],
      "text/plain": [
       "         movie_title              Generes  \\\n",
       "0  Top Gun: Maverick  ['Action', 'Drama']   \n",
       "\n",
       "                                            Overview  \\\n",
       "0  After more than thirty years of service as one...   \n",
       "\n",
       "                                            Keywords         Director  \\\n",
       "0  ['fighter jet', 'sequel', 'u.s. navy', 'fighte...  Joseph Kosinski   \n",
       "\n",
       "                                         Top 5 Casts    Writer  \n",
       "0  ['Jack Epps Jr.', 'Peter Craig', 'Tom Cruise',...  Jim Cash  "
      ]
     },
     "execution_count": 17,
     "metadata": {},
     "output_type": "execute_result"
    }
   ],
   "source": [
    "movies.head(1)"
   ]
  },
  {
   "cell_type": "code",
   "execution_count": 18,
   "id": "2cd4b4a0",
   "metadata": {},
   "outputs": [],
   "source": [
    "movies['Director'] = movies['Director'].apply(lambda x:x.replace(\" \",\"\"))\n",
    "movies['Top 5 Casts'] = movies['Top 5 Casts'].apply(lambda x:x.replace(\" \",\"\"))\n",
    "movies['Writer'] = movies['Writer'].apply(lambda x:x.replace(\" \",\"\"))\n",
    "movies['Keywords'] = movies['Keywords'].apply(lambda x:x.replace(\" \",\"\"))"
   ]
  },
  {
   "cell_type": "code",
   "execution_count": 19,
   "id": "eb5844b2",
   "metadata": {},
   "outputs": [],
   "source": [
    "movies['Top 5 Casts'] = movies['Top 5 Casts'].apply(lambda x:x.replace(\"'\",\"\"))\n",
    "movies['Generes'] = movies['Generes'].apply(lambda x:x.replace(\"'\",\"\"))\n",
    "movies['Keywords'] = movies['Keywords'].apply(lambda x:x.replace(\"'\",\"\"))"
   ]
  },
  {
   "cell_type": "code",
   "execution_count": 20,
   "id": "79204a51",
   "metadata": {},
   "outputs": [
    {
     "data": {
      "text/html": [
       "<div>\n",
       "<style scoped>\n",
       "    .dataframe tbody tr th:only-of-type {\n",
       "        vertical-align: middle;\n",
       "    }\n",
       "\n",
       "    .dataframe tbody tr th {\n",
       "        vertical-align: top;\n",
       "    }\n",
       "\n",
       "    .dataframe thead th {\n",
       "        text-align: right;\n",
       "    }\n",
       "</style>\n",
       "<table border=\"1\" class=\"dataframe\">\n",
       "  <thead>\n",
       "    <tr style=\"text-align: right;\">\n",
       "      <th></th>\n",
       "      <th>movie_title</th>\n",
       "      <th>Generes</th>\n",
       "      <th>Overview</th>\n",
       "      <th>Keywords</th>\n",
       "      <th>Director</th>\n",
       "      <th>Top 5 Casts</th>\n",
       "      <th>Writer</th>\n",
       "    </tr>\n",
       "  </thead>\n",
       "  <tbody>\n",
       "    <tr>\n",
       "      <th>0</th>\n",
       "      <td>Top Gun: Maverick</td>\n",
       "      <td>[Action, Drama]</td>\n",
       "      <td>After more than thirty years of service as one...</td>\n",
       "      <td>[fighterjet,sequel,u.s.navy,fighteraircraft,pi...</td>\n",
       "      <td>JosephKosinski</td>\n",
       "      <td>[JackEppsJr.,PeterCraig,TomCruise,JenniferConn...</td>\n",
       "      <td>JimCash</td>\n",
       "    </tr>\n",
       "    <tr>\n",
       "      <th>1</th>\n",
       "      <td>Jurassic World Dominion</td>\n",
       "      <td>[Action, Adventure, Sci-Fi]</td>\n",
       "      <td>Four years after the destruction of Isla Nubla...</td>\n",
       "      <td>[dinosaur,jurassicpark,tyrannosaurusrex,veloci...</td>\n",
       "      <td>ColinTrevorrow</td>\n",
       "      <td>[ColinTrevorrow,DerekConnolly,ChrisPratt,Bryce...</td>\n",
       "      <td>EmilyCarmichael</td>\n",
       "    </tr>\n",
       "    <tr>\n",
       "      <th>2</th>\n",
       "      <td>Top Gun</td>\n",
       "      <td>[Action, Drama]</td>\n",
       "      <td>As students at the United States Navy's elite ...</td>\n",
       "      <td>[pilot,malecamaraderie,u.s.navy,grummanf14tomc...</td>\n",
       "      <td>TonyScott</td>\n",
       "      <td>[JackEppsJr.,EhudYonay,TomCruise,TimRobbins,Ke...</td>\n",
       "      <td>JimCash</td>\n",
       "    </tr>\n",
       "    <tr>\n",
       "      <th>3</th>\n",
       "      <td>Lightyear</td>\n",
       "      <td>[Animation, Action, Adventure]</td>\n",
       "      <td>While spending years attempting to return home...</td>\n",
       "      <td>[galaxy,spaceship,robot,rocket,spaceadventure,...</td>\n",
       "      <td>AngusMacLane</td>\n",
       "      <td>[JasonHeadley,MatthewAldrich,ChrisEvans,KekePa...</td>\n",
       "      <td>AngusMacLane</td>\n",
       "    </tr>\n",
       "    <tr>\n",
       "      <th>4</th>\n",
       "      <td>Spiderhead</td>\n",
       "      <td>[Action, Crime, Drama]</td>\n",
       "      <td>In the near future, convicts are offered the c...</td>\n",
       "      <td>[discover,medical,test,reality,fictionaldrug,v...</td>\n",
       "      <td>JosephKosinski</td>\n",
       "      <td>[RhettReese,PaulWernick,ChrisHemsworth,MilesTe...</td>\n",
       "      <td>GeorgeSaunders</td>\n",
       "    </tr>\n",
       "  </tbody>\n",
       "</table>\n",
       "</div>"
      ],
      "text/plain": [
       "               movie_title                         Generes  \\\n",
       "0        Top Gun: Maverick                 [Action, Drama]   \n",
       "1  Jurassic World Dominion     [Action, Adventure, Sci-Fi]   \n",
       "2                  Top Gun                 [Action, Drama]   \n",
       "3                Lightyear  [Animation, Action, Adventure]   \n",
       "4               Spiderhead          [Action, Crime, Drama]   \n",
       "\n",
       "                                            Overview  \\\n",
       "0  After more than thirty years of service as one...   \n",
       "1  Four years after the destruction of Isla Nubla...   \n",
       "2  As students at the United States Navy's elite ...   \n",
       "3  While spending years attempting to return home...   \n",
       "4  In the near future, convicts are offered the c...   \n",
       "\n",
       "                                            Keywords        Director  \\\n",
       "0  [fighterjet,sequel,u.s.navy,fighteraircraft,pi...  JosephKosinski   \n",
       "1  [dinosaur,jurassicpark,tyrannosaurusrex,veloci...  ColinTrevorrow   \n",
       "2  [pilot,malecamaraderie,u.s.navy,grummanf14tomc...       TonyScott   \n",
       "3  [galaxy,spaceship,robot,rocket,spaceadventure,...    AngusMacLane   \n",
       "4  [discover,medical,test,reality,fictionaldrug,v...  JosephKosinski   \n",
       "\n",
       "                                         Top 5 Casts           Writer  \n",
       "0  [JackEppsJr.,PeterCraig,TomCruise,JenniferConn...          JimCash  \n",
       "1  [ColinTrevorrow,DerekConnolly,ChrisPratt,Bryce...  EmilyCarmichael  \n",
       "2  [JackEppsJr.,EhudYonay,TomCruise,TimRobbins,Ke...          JimCash  \n",
       "3  [JasonHeadley,MatthewAldrich,ChrisEvans,KekePa...     AngusMacLane  \n",
       "4  [RhettReese,PaulWernick,ChrisHemsworth,MilesTe...   GeorgeSaunders  "
      ]
     },
     "execution_count": 20,
     "metadata": {},
     "output_type": "execute_result"
    }
   ],
   "source": [
    "movies.head()"
   ]
  },
  {
   "cell_type": "code",
   "execution_count": 21,
   "id": "f2ef063b",
   "metadata": {},
   "outputs": [],
   "source": [
    "# str(movies['Overview'])"
   ]
  },
  {
   "cell_type": "code",
   "execution_count": 22,
   "id": "6063d02f",
   "metadata": {},
   "outputs": [],
   "source": [
    "movies['tags'] = movies['movie_title'] + \",\" + movies['Generes'] + \",\" + movies['Keywords'] + \",\" + movies['Director'] + \",\" + movies['Top 5 Casts'] + \",\" + movies['Writer'] "
   ]
  },
  {
   "cell_type": "code",
   "execution_count": 23,
   "id": "599af20b",
   "metadata": {},
   "outputs": [
    {
     "data": {
      "text/html": [
       "<div>\n",
       "<style scoped>\n",
       "    .dataframe tbody tr th:only-of-type {\n",
       "        vertical-align: middle;\n",
       "    }\n",
       "\n",
       "    .dataframe tbody tr th {\n",
       "        vertical-align: top;\n",
       "    }\n",
       "\n",
       "    .dataframe thead th {\n",
       "        text-align: right;\n",
       "    }\n",
       "</style>\n",
       "<table border=\"1\" class=\"dataframe\">\n",
       "  <thead>\n",
       "    <tr style=\"text-align: right;\">\n",
       "      <th></th>\n",
       "      <th>movie_title</th>\n",
       "      <th>Generes</th>\n",
       "      <th>Overview</th>\n",
       "      <th>Keywords</th>\n",
       "      <th>Director</th>\n",
       "      <th>Top 5 Casts</th>\n",
       "      <th>Writer</th>\n",
       "      <th>tags</th>\n",
       "    </tr>\n",
       "  </thead>\n",
       "  <tbody>\n",
       "    <tr>\n",
       "      <th>0</th>\n",
       "      <td>Top Gun: Maverick</td>\n",
       "      <td>[Action, Drama]</td>\n",
       "      <td>After more than thirty years of service as one...</td>\n",
       "      <td>[fighterjet,sequel,u.s.navy,fighteraircraft,pi...</td>\n",
       "      <td>JosephKosinski</td>\n",
       "      <td>[JackEppsJr.,PeterCraig,TomCruise,JenniferConn...</td>\n",
       "      <td>JimCash</td>\n",
       "      <td>Top Gun: Maverick,[Action, Drama],[fighterjet,...</td>\n",
       "    </tr>\n",
       "  </tbody>\n",
       "</table>\n",
       "</div>"
      ],
      "text/plain": [
       "         movie_title          Generes  \\\n",
       "0  Top Gun: Maverick  [Action, Drama]   \n",
       "\n",
       "                                            Overview  \\\n",
       "0  After more than thirty years of service as one...   \n",
       "\n",
       "                                            Keywords        Director  \\\n",
       "0  [fighterjet,sequel,u.s.navy,fighteraircraft,pi...  JosephKosinski   \n",
       "\n",
       "                                         Top 5 Casts   Writer  \\\n",
       "0  [JackEppsJr.,PeterCraig,TomCruise,JenniferConn...  JimCash   \n",
       "\n",
       "                                                tags  \n",
       "0  Top Gun: Maverick,[Action, Drama],[fighterjet,...  "
      ]
     },
     "execution_count": 23,
     "metadata": {},
     "output_type": "execute_result"
    }
   ],
   "source": [
    "movies.head(1)"
   ]
  },
  {
   "cell_type": "code",
   "execution_count": 24,
   "id": "27ed7da8",
   "metadata": {},
   "outputs": [],
   "source": [
    "movies['tags'] = movies['tags'].apply(lambda x:x.replace(\"[\",\"\"))\n",
    "movies['tags'] = movies['tags'].apply(lambda x:x.replace(\"]\",\"\"))"
   ]
  },
  {
   "cell_type": "code",
   "execution_count": 25,
   "id": "e4ba288c",
   "metadata": {},
   "outputs": [],
   "source": [
    "movies['tags'] = movies['tags'].apply(lambda x:x.replace(\":\",\"\"))"
   ]
  },
  {
   "cell_type": "code",
   "execution_count": 26,
   "id": "90fb8831",
   "metadata": {},
   "outputs": [
    {
     "data": {
      "text/plain": [
       "0    Top Gun Maverick,Action, Drama,fighterjet,sequ...\n",
       "Name: tags, dtype: object"
      ]
     },
     "execution_count": 26,
     "metadata": {},
     "output_type": "execute_result"
    }
   ],
   "source": [
    "movies.head(1).tags"
   ]
  },
  {
   "cell_type": "code",
   "execution_count": 27,
   "id": "439efea7",
   "metadata": {},
   "outputs": [],
   "source": [
    "new_df = movies[['movie_title', 'tags']]"
   ]
  },
  {
   "cell_type": "code",
   "execution_count": 28,
   "id": "11b132bd",
   "metadata": {},
   "outputs": [
    {
     "data": {
      "text/html": [
       "<div>\n",
       "<style scoped>\n",
       "    .dataframe tbody tr th:only-of-type {\n",
       "        vertical-align: middle;\n",
       "    }\n",
       "\n",
       "    .dataframe tbody tr th {\n",
       "        vertical-align: top;\n",
       "    }\n",
       "\n",
       "    .dataframe thead th {\n",
       "        text-align: right;\n",
       "    }\n",
       "</style>\n",
       "<table border=\"1\" class=\"dataframe\">\n",
       "  <thead>\n",
       "    <tr style=\"text-align: right;\">\n",
       "      <th></th>\n",
       "      <th>movie_title</th>\n",
       "      <th>tags</th>\n",
       "    </tr>\n",
       "  </thead>\n",
       "  <tbody>\n",
       "    <tr>\n",
       "      <th>0</th>\n",
       "      <td>Top Gun: Maverick</td>\n",
       "      <td>Top Gun Maverick,Action, Drama,fighterjet,sequ...</td>\n",
       "    </tr>\n",
       "    <tr>\n",
       "      <th>1</th>\n",
       "      <td>Jurassic World Dominion</td>\n",
       "      <td>Jurassic World Dominion,Action, Adventure, Sci...</td>\n",
       "    </tr>\n",
       "    <tr>\n",
       "      <th>2</th>\n",
       "      <td>Top Gun</td>\n",
       "      <td>Top Gun,Action, Drama,pilot,malecamaraderie,u....</td>\n",
       "    </tr>\n",
       "    <tr>\n",
       "      <th>3</th>\n",
       "      <td>Lightyear</td>\n",
       "      <td>Lightyear,Animation, Action, Adventure,galaxy,...</td>\n",
       "    </tr>\n",
       "    <tr>\n",
       "      <th>4</th>\n",
       "      <td>Spiderhead</td>\n",
       "      <td>Spiderhead,Action, Crime, Drama,discover,medic...</td>\n",
       "    </tr>\n",
       "    <tr>\n",
       "      <th>...</th>\n",
       "      <td>...</td>\n",
       "      <td>...</td>\n",
       "    </tr>\n",
       "    <tr>\n",
       "      <th>24397</th>\n",
       "      <td>Delicatessen</td>\n",
       "      <td>Delicatessen,Comedy, Crime,surrealist,blackcom...</td>\n",
       "    </tr>\n",
       "    <tr>\n",
       "      <th>24398</th>\n",
       "      <td>Bitch Ass</td>\n",
       "      <td>Bitch Ass,Crime, Horror,,BillPosley,BillPosley...</td>\n",
       "    </tr>\n",
       "    <tr>\n",
       "      <th>24399</th>\n",
       "      <td>Bullwhip</td>\n",
       "      <td>Bullwhip,Crime, Romance, Western,tamingofthesh...</td>\n",
       "    </tr>\n",
       "    <tr>\n",
       "      <th>24400</th>\n",
       "      <td>The Freshman</td>\n",
       "      <td>The Freshman,Comedy, Crime,endangeredspecies,f...</td>\n",
       "    </tr>\n",
       "    <tr>\n",
       "      <th>24401</th>\n",
       "      <td>Guys and Dolls</td>\n",
       "      <td>Guys and Dolls,Comedy, Crime, Musical,mission,...</td>\n",
       "    </tr>\n",
       "  </tbody>\n",
       "</table>\n",
       "<p>24157 rows × 2 columns</p>\n",
       "</div>"
      ],
      "text/plain": [
       "                   movie_title  \\\n",
       "0            Top Gun: Maverick   \n",
       "1      Jurassic World Dominion   \n",
       "2                      Top Gun   \n",
       "3                    Lightyear   \n",
       "4                   Spiderhead   \n",
       "...                        ...   \n",
       "24397             Delicatessen   \n",
       "24398                Bitch Ass   \n",
       "24399                 Bullwhip   \n",
       "24400             The Freshman   \n",
       "24401           Guys and Dolls   \n",
       "\n",
       "                                                    tags  \n",
       "0      Top Gun Maverick,Action, Drama,fighterjet,sequ...  \n",
       "1      Jurassic World Dominion,Action, Adventure, Sci...  \n",
       "2      Top Gun,Action, Drama,pilot,malecamaraderie,u....  \n",
       "3      Lightyear,Animation, Action, Adventure,galaxy,...  \n",
       "4      Spiderhead,Action, Crime, Drama,discover,medic...  \n",
       "...                                                  ...  \n",
       "24397  Delicatessen,Comedy, Crime,surrealist,blackcom...  \n",
       "24398  Bitch Ass,Crime, Horror,,BillPosley,BillPosley...  \n",
       "24399  Bullwhip,Crime, Romance, Western,tamingofthesh...  \n",
       "24400  The Freshman,Comedy, Crime,endangeredspecies,f...  \n",
       "24401  Guys and Dolls,Comedy, Crime, Musical,mission,...  \n",
       "\n",
       "[24157 rows x 2 columns]"
      ]
     },
     "execution_count": 28,
     "metadata": {},
     "output_type": "execute_result"
    }
   ],
   "source": [
    "new_df"
   ]
  },
  {
   "cell_type": "code",
   "execution_count": 29,
   "id": "db36713f",
   "metadata": {},
   "outputs": [
    {
     "name": "stderr",
     "output_type": "stream",
     "text": [
      "C:\\Users\\HP\\AppData\\Local\\Temp\\ipykernel_13932\\3214958533.py:1: SettingWithCopyWarning: \n",
      "A value is trying to be set on a copy of a slice from a DataFrame.\n",
      "Try using .loc[row_indexer,col_indexer] = value instead\n",
      "\n",
      "See the caveats in the documentation: https://pandas.pydata.org/pandas-docs/stable/user_guide/indexing.html#returning-a-view-versus-a-copy\n",
      "  new_df['tags'] = new_df['tags'].apply(lambda x:x.lower())\n"
     ]
    }
   ],
   "source": [
    "new_df['tags'] = new_df['tags'].apply(lambda x:x.lower())"
   ]
  },
  {
   "cell_type": "code",
   "execution_count": 30,
   "id": "141f4fd5",
   "metadata": {},
   "outputs": [
    {
     "data": {
      "text/plain": [
       "0        top gun maverick,action, drama,fighterjet,sequ...\n",
       "1        jurassic world dominion,action, adventure, sci...\n",
       "2        top gun,action, drama,pilot,malecamaraderie,u....\n",
       "3        lightyear,animation, action, adventure,galaxy,...\n",
       "4        spiderhead,action, crime, drama,discover,medic...\n",
       "                               ...                        \n",
       "24397    delicatessen,comedy, crime,surrealist,blackcom...\n",
       "24398    bitch ass,crime, horror,,billposley,billposley...\n",
       "24399    bullwhip,crime, romance, western,tamingofthesh...\n",
       "24400    the freshman,comedy, crime,endangeredspecies,f...\n",
       "24401    guys and dolls,comedy, crime, musical,mission,...\n",
       "Name: tags, Length: 24157, dtype: object"
      ]
     },
     "execution_count": 30,
     "metadata": {},
     "output_type": "execute_result"
    }
   ],
   "source": [
    "new_df['tags'].apply(lambda x:\"\".join(x))"
   ]
  },
  {
   "cell_type": "code",
   "execution_count": 31,
   "id": "f76bc034",
   "metadata": {},
   "outputs": [
    {
     "name": "stderr",
     "output_type": "stream",
     "text": [
      "C:\\Users\\HP\\AppData\\Local\\Temp\\ipykernel_13932\\938356817.py:1: SettingWithCopyWarning: \n",
      "A value is trying to be set on a copy of a slice from a DataFrame.\n",
      "Try using .loc[row_indexer,col_indexer] = value instead\n",
      "\n",
      "See the caveats in the documentation: https://pandas.pydata.org/pandas-docs/stable/user_guide/indexing.html#returning-a-view-versus-a-copy\n",
      "  new_df['tags'] = new_df['tags'].apply(lambda x:x.replace(\",\",\" \"))\n"
     ]
    }
   ],
   "source": [
    "new_df['tags'] = new_df['tags'].apply(lambda x:x.replace(\",\",\" \"))"
   ]
  },
  {
   "cell_type": "code",
   "execution_count": 32,
   "id": "8502abde",
   "metadata": {},
   "outputs": [
    {
     "name": "stderr",
     "output_type": "stream",
     "text": [
      "C:\\Users\\HP\\AppData\\Local\\Temp\\ipykernel_13932\\3383867219.py:1: SettingWithCopyWarning: \n",
      "A value is trying to be set on a copy of a slice from a DataFrame.\n",
      "Try using .loc[row_indexer,col_indexer] = value instead\n",
      "\n",
      "See the caveats in the documentation: https://pandas.pydata.org/pandas-docs/stable/user_guide/indexing.html#returning-a-view-versus-a-copy\n",
      "  new_df['tags'] = new_df['tags'].apply(lambda x:x.replace(\"  \",\" \"))\n"
     ]
    }
   ],
   "source": [
    "new_df['tags'] = new_df['tags'].apply(lambda x:x.replace(\"  \",\" \"))"
   ]
  },
  {
   "cell_type": "code",
   "execution_count": 33,
   "id": "07930c4e",
   "metadata": {},
   "outputs": [
    {
     "data": {
      "text/html": [
       "<div>\n",
       "<style scoped>\n",
       "    .dataframe tbody tr th:only-of-type {\n",
       "        vertical-align: middle;\n",
       "    }\n",
       "\n",
       "    .dataframe tbody tr th {\n",
       "        vertical-align: top;\n",
       "    }\n",
       "\n",
       "    .dataframe thead th {\n",
       "        text-align: right;\n",
       "    }\n",
       "</style>\n",
       "<table border=\"1\" class=\"dataframe\">\n",
       "  <thead>\n",
       "    <tr style=\"text-align: right;\">\n",
       "      <th></th>\n",
       "      <th>movie_title</th>\n",
       "      <th>tags</th>\n",
       "    </tr>\n",
       "  </thead>\n",
       "  <tbody>\n",
       "    <tr>\n",
       "      <th>0</th>\n",
       "      <td>Top Gun: Maverick</td>\n",
       "      <td>top gun maverick action drama fighterjet seque...</td>\n",
       "    </tr>\n",
       "    <tr>\n",
       "      <th>1</th>\n",
       "      <td>Jurassic World Dominion</td>\n",
       "      <td>jurassic world dominion action adventure sci-f...</td>\n",
       "    </tr>\n",
       "    <tr>\n",
       "      <th>2</th>\n",
       "      <td>Top Gun</td>\n",
       "      <td>top gun action drama pilot malecamaraderie u.s...</td>\n",
       "    </tr>\n",
       "    <tr>\n",
       "      <th>3</th>\n",
       "      <td>Lightyear</td>\n",
       "      <td>lightyear animation action adventure galaxy sp...</td>\n",
       "    </tr>\n",
       "    <tr>\n",
       "      <th>4</th>\n",
       "      <td>Spiderhead</td>\n",
       "      <td>spiderhead action crime drama discover medical...</td>\n",
       "    </tr>\n",
       "  </tbody>\n",
       "</table>\n",
       "</div>"
      ],
      "text/plain": [
       "               movie_title                                               tags\n",
       "0        Top Gun: Maverick  top gun maverick action drama fighterjet seque...\n",
       "1  Jurassic World Dominion  jurassic world dominion action adventure sci-f...\n",
       "2                  Top Gun  top gun action drama pilot malecamaraderie u.s...\n",
       "3                Lightyear  lightyear animation action adventure galaxy sp...\n",
       "4               Spiderhead  spiderhead action crime drama discover medical..."
      ]
     },
     "execution_count": 33,
     "metadata": {},
     "output_type": "execute_result"
    }
   ],
   "source": [
    "new_df.head()"
   ]
  },
  {
   "cell_type": "code",
   "execution_count": 34,
   "id": "c6d9c2fb",
   "metadata": {},
   "outputs": [
    {
     "data": {
      "text/plain": [
       "'top gun maverick action drama fighterjet sequel u.s.navy fighteraircraft pilot navalaviation jetfighter militarypilot aviation aircraft josephkosinski jackeppsjr. petercraig tomcruise jenniferconnelly milesteller jimcash'"
      ]
     },
     "execution_count": 34,
     "metadata": {},
     "output_type": "execute_result"
    }
   ],
   "source": [
    "new_df['tags'][0]"
   ]
  },
  {
   "cell_type": "code",
   "execution_count": 35,
   "id": "f195879e",
   "metadata": {},
   "outputs": [],
   "source": [
    "# !pip install nltk"
   ]
  },
  {
   "cell_type": "code",
   "execution_count": 36,
   "id": "891b2e0f",
   "metadata": {},
   "outputs": [],
   "source": [
    "import nltk"
   ]
  },
  {
   "cell_type": "code",
   "execution_count": 37,
   "id": "177a07b8",
   "metadata": {},
   "outputs": [],
   "source": [
    "from nltk.stem.porter import PorterStemmer\n",
    "ps = PorterStemmer()"
   ]
  },
  {
   "cell_type": "code",
   "execution_count": 38,
   "id": "124059ed",
   "metadata": {},
   "outputs": [],
   "source": [
    "def stem(text):\n",
    "    texts= text.split()\n",
    "    txt = [ps.stem(i)for i in texts]\n",
    "    final_text = \" \".join (txt)\n",
    "    return final_text"
   ]
  },
  {
   "cell_type": "code",
   "execution_count": 39,
   "id": "76f3e7aa",
   "metadata": {},
   "outputs": [
    {
     "data": {
      "text/plain": [
       "\"zombi uniqu romanc action drama after more than thirti year of servic as one of the navy' top aviat pete mitchel is where he belong push the envelop as a courag test pilot and dodg the advanc in rank that would ground fighterjet sequel u.s.navi fighteraircraft pilot navalavi jetfight militarypilot aviat aircraft josephkosinski jackeppsjr. petercraig tomcruis jenniferconnelli milestel jimcash\""
      ]
     },
     "execution_count": 39,
     "metadata": {},
     "output_type": "execute_result"
    }
   ],
   "source": [
    "text = \"zombie unique romance action drama after more than thirty years of service as one of the navy's top aviators pete mitchell is where he belongs pushing the envelope as a courageous test pilot and dodging the advancement in rank that would ground fighterjet sequel u.s.navy fighteraircraft pilot navalaviation jetfighter militarypilot aviation aircraft josephkosinski jackeppsjr. petercraig tomcruise jenniferconnelly milesteller jimcash\"\n",
    "stem(text)"
   ]
  },
  {
   "cell_type": "code",
   "execution_count": 40,
   "id": "da1f415d",
   "metadata": {},
   "outputs": [
    {
     "name": "stderr",
     "output_type": "stream",
     "text": [
      "C:\\Users\\HP\\AppData\\Local\\Temp\\ipykernel_13932\\3213734980.py:1: SettingWithCopyWarning: \n",
      "A value is trying to be set on a copy of a slice from a DataFrame.\n",
      "Try using .loc[row_indexer,col_indexer] = value instead\n",
      "\n",
      "See the caveats in the documentation: https://pandas.pydata.org/pandas-docs/stable/user_guide/indexing.html#returning-a-view-versus-a-copy\n",
      "  new_df['tags'] = new_df['tags'].apply(stem)\n"
     ]
    }
   ],
   "source": [
    "new_df['tags'] = new_df['tags'].apply(stem)"
   ]
  },
  {
   "cell_type": "code",
   "execution_count": 41,
   "id": "948dcf2d",
   "metadata": {},
   "outputs": [],
   "source": [
    "from sklearn.feature_extraction.text import CountVectorizer\n",
    "cv = CountVectorizer(max_features=5000, stop_words='english')"
   ]
  },
  {
   "cell_type": "code",
   "execution_count": 42,
   "id": "c46e9be3",
   "metadata": {},
   "outputs": [],
   "source": [
    "vectors = cv.fit_transform(new_df['tags'])"
   ]
  },
  {
   "cell_type": "code",
   "execution_count": 43,
   "id": "13b8b5b3",
   "metadata": {},
   "outputs": [
    {
     "data": {
      "text/plain": [
       "<24157x5000 sparse matrix of type '<class 'numpy.int64'>'\n",
       "\twith 243695 stored elements in Compressed Sparse Row format>"
      ]
     },
     "execution_count": 43,
     "metadata": {},
     "output_type": "execute_result"
    }
   ],
   "source": [
    "vectors"
   ]
  },
  {
   "cell_type": "code",
   "execution_count": 44,
   "id": "6fef63ce",
   "metadata": {},
   "outputs": [
    {
     "data": {
      "text/plain": [
       "<1x5000 sparse matrix of type '<class 'numpy.int64'>'\n",
       "\twith 10 stored elements in Compressed Sparse Row format>"
      ]
     },
     "execution_count": 44,
     "metadata": {},
     "output_type": "execute_result"
    }
   ],
   "source": [
    "vectors[0]"
   ]
  },
  {
   "cell_type": "code",
   "execution_count": 45,
   "id": "ffb30d60",
   "metadata": {},
   "outputs": [
    {
     "data": {
      "text/plain": [
       "array(['007', '10', '12', ..., 'zombieapocalyps', 'zone', 'zoo'],\n",
       "      dtype=object)"
      ]
     },
     "execution_count": 45,
     "metadata": {},
     "output_type": "execute_result"
    }
   ],
   "source": [
    "cv.get_feature_names_out()"
   ]
  },
  {
   "cell_type": "code",
   "execution_count": 46,
   "id": "22b5eabe",
   "metadata": {},
   "outputs": [],
   "source": [
    "from sklearn.metrics.pairwise import cosine_similarity"
   ]
  },
  {
   "cell_type": "code",
   "execution_count": 47,
   "id": "247b764b",
   "metadata": {},
   "outputs": [],
   "source": [
    "similarity = cosine_similarity(vectors, vectors)"
   ]
  },
  {
   "cell_type": "code",
   "execution_count": 48,
   "id": "9dde0ff3",
   "metadata": {},
   "outputs": [
    {
     "data": {
      "text/plain": [
       "array([0.19069252, 1.        , 0.09090909, ..., 0.        , 0.        ,\n",
       "       0.        ])"
      ]
     },
     "execution_count": 48,
     "metadata": {},
     "output_type": "execute_result"
    }
   ],
   "source": [
    "similarity[1]"
   ]
  },
  {
   "cell_type": "code",
   "execution_count": 49,
   "id": "0629a9da",
   "metadata": {},
   "outputs": [
    {
     "data": {
      "text/plain": [
       "[(0, 0.9999999999999999),\n",
       " (2, 0.5720775535473555),\n",
       " (1972, 0.4472135954999579),\n",
       " (4243, 0.4472135954999579),\n",
       " (4525, 0.4472135954999579),\n",
       " (4614, 0.4472135954999579)]"
      ]
     },
     "execution_count": 49,
     "metadata": {},
     "output_type": "execute_result"
    }
   ],
   "source": [
    "sorted(list(enumerate(similarity[0])),reverse=True, key=lambda x:x[1])[0:6]"
   ]
  },
  {
   "cell_type": "code",
   "execution_count": 50,
   "id": "4956c26a",
   "metadata": {},
   "outputs": [],
   "source": [
    "def recommend(movie):\n",
    "    movie_index = new_df[new_df['movie_title'] == movie].index[0]\n",
    "    distances = similarity[movie_index]\n",
    "    movies_list = sorted(list(enumerate(distances)),reverse=True, key=lambda x:x[1])[0:6]\n",
    "    \n",
    "    for i in movies_list:\n",
    "        print(new_df.iloc[i[0]].movie_title)"
   ]
  },
  {
   "cell_type": "code",
   "execution_count": 51,
   "id": "47b91f38",
   "metadata": {},
   "outputs": [],
   "source": [
    "# new_df[new_df['movie title'] == 'Vikram'].index[0]\n",
    "#new_df.iloc[21677].movie_title"
   ]
  },
  {
   "cell_type": "code",
   "execution_count": 52,
   "id": "01a3d395",
   "metadata": {},
   "outputs": [
    {
     "name": "stdout",
     "output_type": "stream",
     "text": [
      "The Avengers\n",
      "Avengers: Age of Ultron\n",
      "Serenity\n",
      "Avengers: Endgame\n",
      "Spider-Man: Homecoming\n",
      "Avengers: Infinity War\n"
     ]
    }
   ],
   "source": [
    "recommend('The Avengers')"
   ]
  },
  {
   "cell_type": "code",
   "execution_count": 53,
   "id": "534545aa",
   "metadata": {},
   "outputs": [
    {
     "name": "stdout",
     "output_type": "stream",
     "text": [
      "The Amazing Spider-Man\n",
      "The Amazing Spider-Man 2\n",
      "Spider-Man\n",
      "The Spider-Man 2\n",
      "Spider-Man 3\n",
      "Spider-Man: Into the Spider-Verse\n"
     ]
    }
   ],
   "source": [
    "recommend('The Amazing Spider-Man')"
   ]
  },
  {
   "cell_type": "code",
   "execution_count": 54,
   "id": "eae7b06b",
   "metadata": {},
   "outputs": [
    {
     "name": "stdout",
     "output_type": "stream",
     "text": [
      "The Batman\n",
      "The Batman 2\n",
      "Batman: A Beautiful Lie\n",
      "Batman: The Killing Joke\n",
      "Batman: Gotham by Gaslight\n",
      "Jatt Jeona Mour\n"
     ]
    }
   ],
   "source": [
    "recommend('The Batman')"
   ]
  },
  {
   "cell_type": "code",
   "execution_count": null,
   "id": "956f878b",
   "metadata": {},
   "outputs": [],
   "source": []
  },
  {
   "cell_type": "code",
   "execution_count": null,
   "id": "83102a2a",
   "metadata": {},
   "outputs": [],
   "source": []
  }
 ],
 "metadata": {
  "kernelspec": {
   "display_name": "Python 3 (ipykernel)",
   "language": "python",
   "name": "python3"
  },
  "language_info": {
   "codemirror_mode": {
    "name": "ipython",
    "version": 3
   },
   "file_extension": ".py",
   "mimetype": "text/x-python",
   "name": "python",
   "nbconvert_exporter": "python",
   "pygments_lexer": "ipython3",
   "version": "3.11.7"
  }
 },
 "nbformat": 4,
 "nbformat_minor": 5
}
